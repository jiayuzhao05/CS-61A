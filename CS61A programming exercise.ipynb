{
 "cells": [
  {
   "cell_type": "markdown",
   "id": "0f739db7",
   "metadata": {},
   "source": [
    "CS61A"
   ]
  },
  {
   "cell_type": "code",
   "execution_count": 25,
   "id": "7adaf666",
   "metadata": {},
   "outputs": [],
   "source": [
    "def multiple(a, b):\n",
    "    \"\"\"Return the smallest number n that is a multiple of both a and b.\n",
    "\n",
    "    >>> multiple(3, 4)\n",
    "    12\n",
    "    >>> multiple(14, 21)\n",
    "    42\n",
    "    \"\"\"\n",
    "    def gcd(x, y):\n",
    "        while y:\n",
    "            x, y = y, x % y\n",
    "        return x\n",
    "    return abs(a * b) // gcd(a, b)"
   ]
  },
  {
   "cell_type": "code",
   "execution_count": 26,
   "id": "d3dd3423",
   "metadata": {},
   "outputs": [],
   "source": [
    "def cycle(f1, f2, f3):\n",
    "    \"\"\"Returns a function that is itself a higher-order function.\n",
    "\n",
    "    >>> def add1(x):\n",
    "    ...     return x + 1\n",
    "    >>> def times2(x):\n",
    "    ...     return x * 2\n",
    "    >>> def add3(x):\n",
    "    ...     return x + 3\n",
    "    >>> my_cycle = cycle(add1, times2, add3)\n",
    "    >>> identity = my_cycle(0)\n",
    "    >>> identity(5)\n",
    "    5\n",
    "    >>> add_one_then_double = my_cycle(2)\n",
    "    >>> add_one_then_double(1)\n",
    "    4\n",
    "    >>> do_all_functions = my_cycle(3)\n",
    "    >>> do_all_functions(2)\n",
    "    9\n",
    "    >>> do_more_than_a_cycle = my_cycle(4)\n",
    "    >>> do_more_than_a_cycle(2)\n",
    "    10\n",
    "    >>> do_two_cycles = my_cycle(6)\n",
    "    >>> do_two_cycles(1)\n",
    "    19\n",
    "    \"\"\"\n",
    "    def my_cycle(n):\n",
    "        def result(x):\n",
    "            funcs = [f1, f2, f3]\n",
    "            val = x\n",
    "            for i in range(n):\n",
    "                val = funcs[i % 3](val)\n",
    "            return val\n",
    "        return result\n",
    "    return my_cycle"
   ]
  },
  {
   "cell_type": "code",
   "execution_count": 27,
   "id": "e24bd25e",
   "metadata": {},
   "outputs": [],
   "source": [
    "def make_keeper(n):\n",
    "    \"\"\"Returns a function that takes one parameter cond and prints\n",
    "    out all integers 1..i..n where calling cond(i) returns True.\n",
    "    \"\"\"\n",
    "    def keeper(cond):\n",
    "        for i in range(1, n + 1):\n",
    "            if cond(i):\n",
    "                print(i)\n",
    "    return keeper"
   ]
  },
  {
   "cell_type": "code",
   "execution_count": 28,
   "id": "62321f9b",
   "metadata": {},
   "outputs": [],
   "source": [
    "def find_digit(k):\n",
    "    \"\"\"Returns a function that returns the kth digit of x.\n",
    "\n",
    "    >>> find_digit(2)(3456)\n",
    "    5\n",
    "    >>> find_digit(2)(5678)\n",
    "    7\n",
    "    >>> find_digit(1)(10)\n",
    "    0\n",
    "    >>> find_digit(4)(789)\n",
    "    0\n",
    "    \"\"\"\n",
    "    assert k > 0\n",
    "    def get_kth_digit(x):\n",
    "        x_str = str(x)\n",
    "        if k > len(x_str):\n",
    "            return 0\n",
    "        return int(x_str[-k])\n",
    "    return get_kth_digit"
   ]
  },
  {
   "cell_type": "code",
   "execution_count": 29,
   "id": "2616540a",
   "metadata": {},
   "outputs": [],
   "source": [
    "def streak(n): \n",
    "    \"\"\"Return True if all the digits in positive integer n are the same. \n",
    "    >>> streak(22222) \n",
    "    True \n",
    "    >>> streak(4) \n",
    "    True \n",
    "    >>> streak(2222322)  # 2 and 3 are different digits. \n",
    "    False \n",
    "    \"\"\" \n",
    "    return (n >= 0 and n <= 9) or (n > 9 and n % 10 == n // 10 % 10 and streak(n // 10)) "
   ]
  },
  {
   "cell_type": "code",
   "execution_count": 30,
   "id": "3712e0fa",
   "metadata": {},
   "outputs": [],
   "source": [
    "def num_eights(n):\n",
    "    \"\"\"Returns the number of times 8 appears as a digit of n.\"\"\"\n",
    "    if n % 10 == 8:\n",
    "        return 1 + num_eights(n // 10)\n",
    "    elif n < 10:\n",
    "        return 0\n",
    "    else:\n",
    "        return num_eights(n // 10)"
   ]
  },
  {
   "cell_type": "markdown",
   "id": "79a85bee",
   "metadata": {},
   "source": [
    "递归地打印汉诺塔问题"
   ]
  },
  {
   "cell_type": "code",
   "execution_count": 31,
   "id": "2f42061e",
   "metadata": {},
   "outputs": [],
   "source": [
    "def move_stack(n, start, end):\n",
    "    \"\"\"Print the moves required to move n disks on the start pole to the end\n",
    "    pole without violating the rules of Towers of Hanoi.\n",
    "    \"\"\"\n",
    "    assert 1 <= start <= 3 and 1 <= end <= 3 and start != end, \"Bad start/end\"\n",
    "    if n == 1:\n",
    "        print_move(start, end)\n",
    "    else:\n",
    "        other = 6 - start - end\n",
    "        move_stack(n-1, start, other)\n",
    "        print_move(start, end)\n",
    "        move_stack(n-1, other, end)"
   ]
  },
  {
   "cell_type": "markdown",
   "id": "866e682f",
   "metadata": {},
   "source": [
    "给定一个正整数 n，先逆序打印每一位，再正序打印每一位（除了最中间的那一位，避免重复打印）"
   ]
  },
  {
   "cell_type": "code",
   "execution_count": 32,
   "id": "bb79b6cf",
   "metadata": {},
   "outputs": [],
   "source": [
    "def swipe(n):\n",
    "    \"\"\"Print the digits of n, one per line, first backward then forward.\"\"\"\n",
    "    if n < 10:\n",
    "        print(n)\n",
    "    else:\n",
    "        print(n % 10)      # 先打印最后一位（逆序）\n",
    "        swipe(n // 10)     # 递归处理剩下的数字\n",
    "        print(n % 10)      # 再打印最后一位（正序）"
   ]
  },
  {
   "cell_type": "markdown",
   "id": "46636f94",
   "metadata": {},
   "source": [
    "Karel the robot\n",
    "卡雷尔机器人）是一个用于教学的编程环境和虚拟机器人，最早由 Richard E. Pattis 在 1981 年提出。它主要用于帮助初学者学习编程的基本概念，比如顺序、条件、循环和过程（函数）。\n",
    "\n",
    "Karel 生活在一个由方格组成的“城市”里，这个世界通常是一个二维网格。\n",
    "每个格子可以有墙、球（beeper）、或者是空的。\n",
    "Karel 有朝向（东南西北），可以在格子间移动。\n",
    "\n",
    "Karel 的指令集非常简单，通常包括：\n",
    "move()：向前走一步\n",
    "turn_left()：左转90度\n",
    "pick_beeper()：捡起一个球\n",
    "put_beeper()：放下一个球\n",
    "front_is_clear()：前方没有墙\n",
    "beeper_present()：当前位置有球"
   ]
  },
  {
   "cell_type": "code",
   "execution_count": 33,
   "id": "b62df7a3",
   "metadata": {},
   "outputs": [],
   "source": [
    "def play(strategy0, strategy1, n=0, who = 0, announce=False):\n",
    "    \"Play twenty-one starting at n and return the index of the winner.\"\n",
    "    # 模拟了一个“两人轮流加数”的游戏，直到总数 n 达到或超过目标值 goal\n",
    "    strategies = [strategy0, strategy1]\n",
    "    while n < goal:\n",
    "        n = n + strategies[who](n)\n",
    "        if announce:\n",
    "            print('Player', who, 'increases n to', n)\n",
    "        who = 1 - who\n",
    "    return who\n",
    "\n",
    "\n",
    "def two_strat(n):\n",
    "    \"Always choose 2.\"\n",
    "    return 2  # 玩家每次都选择加2\n",
    "\n",
    "def interactive(n):\n",
    "    \"Ask the user.\"\n",
    "    # 让用户输入 1、2 或 3 作为本轮的选择。如果输入无效，会提示并重新输入，直到输入有效为止\n",
    "    choice = input('Pick 1, 2, or 3: ')\n",
    "    if choice in ['1', '2', '3']:\n",
    "        return int(choice)\n",
    "    else:\n",
    "        print('Invalid choice!')\n",
    "        return interactive(n)\n",
    "\n",
    "def best(n, other_strategy):\n",
    "    \"\"\"Return an best strategy against other_strategy.\n",
    "    # 博弈论中的最优策略函数，用于在“轮流加数”游戏中，给定当前总数 n 和对手的策略，返回本轮最优选择（1、2 或 3）\n",
    "    # 目标是让自己最终赢得游戏\n",
    "    >>> beat_two_strat = lambda n: best(n, two_strat)\n",
    "    >>> winner(20, beat_two_strat, two_strat)\n",
    "    1\n",
    "    >>> winner(19, beat_two_strat, two_strat)\n",
    "    0\n",
    "    >>> winner(15, beat_two_strat, two_strat)\n",
    "    0\n",
    "    >>> winner(0, beat_two_strat, two_strat)\n",
    "    0\n",
    "    \"\"\"\n",
    "    plan = lambda future_n: best(future_n, other_strategy)\n",
    "    for choice in range(1, 4):\n",
    "        if play(plan, other_strategy, n + choice, 1) == 0:\n",
    "            return choice\n",
    "    return 1\n",
    "\n",
    "perfect = lambda n: best(n, perfect)"
   ]
  },
  {
   "cell_type": "markdown",
   "id": "45b8d001",
   "metadata": {},
   "source": [
    "a.append([20, 30]) 会把整个 [20, 30] 作为一个元素加到 a 的末尾，结果是 [10, [20, 30]]\n",
    "\n",
    "a.extend([20, 30]) 会把 20 和 30 分别加到 a 的末尾，结果是 [10, 20, 30]。"
   ]
  },
  {
   "cell_type": "code",
   "execution_count": 34,
   "id": "c6fd703f",
   "metadata": {},
   "outputs": [
    {
     "data": {
      "text/plain": [
       "(2,)"
      ]
     },
     "execution_count": 34,
     "metadata": {},
     "output_type": "execute_result"
    }
   ],
   "source": [
    "tuple([1, 2, 3])     # 用列表创建元组，结果是 (1, 2, 3)\n",
    "# tuple(2)           # 错误，2 不是可迭代对象，不能直接转成元组\n",
    "(2,)                 # 单元素元组，必须加逗号，否则就是数字2本身"
   ]
  },
  {
   "cell_type": "code",
   "execution_count": 35,
   "id": "3b395319",
   "metadata": {},
   "outputs": [
    {
     "data": {
      "text/plain": [
       "{(1, 2): 3}"
      ]
     },
     "execution_count": 35,
     "metadata": {},
     "output_type": "execute_result"
    }
   ],
   "source": [
    "# {[1]: 2}           # 错误，列表不能做字典的键（不可哈希）\n",
    "{1: [2]}             # 正确，数字做键，值可以是列表\n",
    "{(1, 2): 3}          # 正确，元组做键（元组是不可变、可哈希的）\n",
    "# {([1], 2): 3}      # 错误，元组里有列表，整体不可哈希，不能做键\n",
    "{tuple([1, 2]): 3}   # 正确，tuple([1, 2]) 结果是 (1, 2)，可做键"
   ]
  },
  {
   "cell_type": "markdown",
   "id": "42a2936f",
   "metadata": {},
   "source": [
    "字典的键必须是不可变、可哈希的对象。\n",
    "\n",
    "列表（list）不可哈希，不能做键。\n",
    "\n",
    "元组（tuple）只要里面全是不可变对象，就是可哈希的，可以做键"
   ]
  },
  {
   "cell_type": "code",
   "execution_count": 36,
   "id": "e3c041f1",
   "metadata": {},
   "outputs": [
    {
     "ename": "NameError",
     "evalue": "name 'sums' is not defined",
     "output_type": "error",
     "traceback": [
      "\u001b[31m---------------------------------------------------------------------------\u001b[39m",
      "\u001b[31mNameError\u001b[39m                                 Traceback (most recent call last)",
      "\u001b[36mCell\u001b[39m\u001b[36m \u001b[39m\u001b[32mIn[36]\u001b[39m\u001b[32m, line 1\u001b[39m\n\u001b[32m----> \u001b[39m\u001b[32m1\u001b[39m \u001b[43msums\u001b[49m(n, m)\n\u001b[32m      2\u001b[39m \u001b[38;5;66;03m# 返回所有由正整数（不超过 m）组成且和为 n的列表，要求相邻数字不能相同\u001b[39;00m\n",
      "\u001b[31mNameError\u001b[39m: name 'sums' is not defined"
     ]
    }
   ],
   "source": [
    "sums(n, m)\n",
    "# 返回所有由正整数（不超过 m）组成且和为 n的列表，要求相邻数字不能相同"
   ]
  },
  {
   "cell_type": "code",
   "execution_count": null,
   "id": "b5b470a4",
   "metadata": {},
   "outputs": [],
   "source": [
    "# --- image data demo --- #\n",
    "def display_image_data(image_path):\n",
    "    \"\"\"\n",
    "    displays an image and prints out the pixel data\n",
    "    example usage: display_image_data(\"sonic.gif\")\n",
    "    \"\"\"\n",
    "\n",
    "    from PIL import Image # library for helping work with images, just for the fun little image demo\n",
    "    # you'll have to install this by running 'pip install pillow' in your terminal first.\n",
    "\n",
    "    # Load image and make sure it is in RGB format\n",
    "    img = Image.open(image_path).convert(\"RGB\")\n",
    "    \n",
    "    # Get the image dimensions\n",
    "    width, height = img.size\n",
    "    \n",
    "    # Get all pixels as a list of tuples (R, G, B)\n",
    "    pixels = list(img.getdata())\n",
    "\n",
    "    # Create coordinates using list comprehension\n",
    "    coordinates = [(x, y) for y in range(height) for x in range(width)]\n",
    "    \n",
    "    # Use zip to pair coordinates with pixel values and iterate through them\n",
    "    for coord, pixel in zip(coordinates, pixels):\n",
    "        print(f\"Pixel at {coord}: {pixel}\")\n",
    "    \n",
    "    # Also display the image\n",
    "    img.show()"
   ]
  },
  {
   "cell_type": "markdown",
   "id": "f39fa959",
   "metadata": {},
   "source": [
    "next() 是 Python 的一个内置函数，主要用于获取迭代器的下一个元素。"
   ]
  },
  {
   "cell_type": "code",
   "execution_count": null,
   "id": "4b291dd4",
   "metadata": {},
   "outputs": [],
   "source": [
    "it = iter([1, 2, 3])\n",
    "print(next(it))  # 输出 1\n",
    "print(next(it))  # 输出 2\n",
    "print(next(it))  # 输出 3\n",
    "# print(next(it))  # 再调用会抛出 StopIteration 异常"
   ]
  },
  {
   "cell_type": "code",
   "execution_count": null,
   "id": "f397dde7",
   "metadata": {},
   "outputs": [],
   "source": [
    "it = iter([1, 2])\n",
    "print(next(it, 'end'))  # 1\n",
    "print(next(it, 'end'))  # 2\n",
    "print(next(it, 'end'))  # 'end'\n",
    "# 给 next() 传递一个默认值，这样当迭代器耗尽时不会报错，而是返回默认值"
   ]
  },
  {
   "cell_type": "code",
   "execution_count": null,
   "id": "9ada1bf5",
   "metadata": {},
   "outputs": [],
   "source": [
    "# --- intro to generators --- #\n",
    "# 用 yield 产生一个无限循环的序列\n",
    "def generator_demo():\n",
    "    def cycle(s):\n",
    "        while True:\n",
    "            for x in s:\n",
    "                print(\"before yielding!\")\n",
    "                yield x\n",
    "                print(\"after yielding!\")\n",
    "\n",
    "\n",
    "    l = [1,2,3]\n",
    "    g = cycle(l)\n",
    "    next(g)\n",
    "    next(g)\n",
    "    next(g)\n",
    "    next(g)\n",
    "\n",
    "    #all_of_them = list(g) # will run forever, trying to build an infinite list: [1,2,3,4,1,2,3,4,1,2,3,4,1,2,3,4,1,2,3,4...]\n"
   ]
  },
  {
   "cell_type": "code",
   "execution_count": null,
   "id": "5941144b",
   "metadata": {},
   "outputs": [],
   "source": [
    "# -- revisiting the parking problem --- #\n",
    "def park(n):\n",
    "    \"\"\"Return a list of the ways to park cars and motorcycles in n adjacent spots.\n",
    "\n",
    "    >>> park(1)\n",
    "    ['%', '.']\n",
    "    >>> park(2)\n",
    "    ['%%', '%.', '.%', '..', '<>']\n",
    "    >>> park(3)\n",
    "    ['%%%', '%%.', '%.%', '%..', '%<>', '.%%', '.%.', '..%', '...', '.<>', '<>%', '<>.']\n",
    "    >>> len(park(4))\n",
    "    29\n",
    "    \"\"\"\n",
    "    if n < 0:\n",
    "        return [] # 如果剩余的停车位数小于 0，说明这种分配方式不合法（比如你想在只剩 1 个车位时再放一个占 2 个车位的大车），所以返回一个空列表，表示没有方案\n",
    "    elif n == 0:\n",
    "        return [''] # 如果剩余的停车位数为 0，说明已经没有停车位了，所以返回一个包含空字符串的列表，表示只有一种方案：什么都不放\n",
    "    else:\n",
    "        return (['%'  + s for s in park(n-1)] + # 如果最后一个车位放车，那么前面 n-1 个车位可以有 park(n-1) 种分配方式\n",
    "                ['.'  + s for s in park(n-1)] + # 如果最后一个车位放摩托车，那么前面 n-1 个车位可以有 park(n-1) 种分配方式\n",
    "                ['<>' + s for s in park(n-2)])"
   ]
  },
  {
   "cell_type": "code",
   "execution_count": null,
   "id": "e55a5ae1",
   "metadata": {},
   "outputs": [],
   "source": [
    "def park(n):\n",
    "    \"\"\"Return a generator that yields all the ways to park cars and motorcycles in n adjacent spots.\n",
    "\n",
    "    >>> sorted(park(1))\n",
    "    ['%', '.']\n",
    "    >>> sorted(park(2))\n",
    "    ['%%', '%.', '.%', '..', '<>']\n",
    "    >>> sorted(park(3))\n",
    "    ['%%%', '%%.', '%.%', '%..', '%<>', '.%%', '.%.', '..%', '...', '.<>', '<>%', '<>.']\n",
    "    >>> len(list(park(4)))\n",
    "    29\n",
    "    \"\"\"\n",
    "    if n == 0:\n",
    "        yield ''  # 如果没有剩余车位，说明当前分配方式是合法的，产出一个空字符串，作为递归拼接的基础\n",
    "    elif n > 0:  # 如果还有剩余车位\n",
    "        for s in park(n-1): # 如果最后一个车位放车，那么前面 n-1 个车位可以有 park(n-1) 种分配方式\n",
    "            yield '%'  + s # 先考虑第一个位置停一辆车（%），剩下 n-1 个位置递归，产出所有方案，每个前面加 %\n",
    "            yield '.'  + s # 再考虑第一个位置停一辆摩托（.）\n",
    "        for s in park(n-2):\n",
    "            yield '<>' + s # 最后考虑前两个位置一起停一辆大车（<>），剩下 n-2 个位置递归，产出所有方案，每个前面加 <>\n"
   ]
  },
  {
   "cell_type": "markdown",
   "id": "83df5e4d",
   "metadata": {},
   "source": [
    "生成器的好处\n",
    "\n",
    "节省内存：不会一次性生成所有方案，而是按需逐个产出。\n",
    "\n",
    "可以用 for 循环遍历所有方案，也可以用 list(park(n)) 一次性取出所有方案"
   ]
  },
  {
   "cell_type": "code",
   "execution_count": null,
   "id": "249bdb1a",
   "metadata": {},
   "outputs": [],
   "source": [
    "while True:\n",
    "    x = input(\"输入exit退出：\")\n",
    "    if x == \"exit\":\n",
    "        break  # 只有执行到break时才会退出循环\n",
    "    print(\"你输入了：\", x)"
   ]
  },
  {
   "cell_type": "markdown",
   "id": "8d71768b",
   "metadata": {},
   "source": [
    "while True: 是 Python 中的一个无限循环写法\n",
    "\n",
    "while True: 的条件永远为 True，总是会进入循环，不会因为条件变为 False 而自动退出。"
   ]
  },
  {
   "cell_type": "code",
   "execution_count": null,
   "id": "3bb28414",
   "metadata": {},
   "outputs": [],
   "source": [
    "l = [2, 4, 6, 8]\n",
    "\n",
    "\n",
    "def double(x): \n",
    "    print(f\"*** doubling {x} ***\") \n",
    "    return x*2\n",
    "\n",
    "doubler = map(double, l) "
   ]
  },
  {
   "cell_type": "markdown",
   "id": "012059d1",
   "metadata": {},
   "source": [
    "Iterator（迭代器）：zip(), filter(), reversed()"
   ]
  },
  {
   "cell_type": "markdown",
   "id": "d540154f",
   "metadata": {},
   "source": [
    "terator 是一种特殊的 iterable（它自己就是自己的迭代器）。"
   ]
  },
  {
   "cell_type": "markdown",
   "id": "6b2da4c5",
   "metadata": {},
   "source": [
    "map 会把 func 应用到 iterable 的每一个元素上，并返回一个迭代器（不是列表！）\n",
    "\n",
    "就像批量加工：把一堆原料（iterable）送进工厂（func），出来一堆新产品（map 结果）。"
   ]
  },
  {
   "cell_type": "markdown",
   "id": "0a6c9c21",
   "metadata": {},
   "source": [
    "map(func, iterable)"
   ]
  },
  {
   "cell_type": "code",
   "execution_count": null,
   "id": "89726bf1",
   "metadata": {},
   "outputs": [],
   "source": [
    "  def plus_minus(x):\n",
    "      yield x\n",
    "      yield -x\n",
    "  t = plus_minus(3)\n",
    "  next(t)  # 3\n",
    "  next(t)  # -3"
   ]
  },
  {
   "cell_type": "markdown",
   "id": "cd8490c1",
   "metadata": {},
   "source": [
    "普通函数只能 return 一次，generator function 可以 yield 多次。"
   ]
  },
  {
   "cell_type": "markdown",
   "id": "176cac62",
   "metadata": {},
   "source": [
    "实现 exclude(t, x)，返回一棵树，去掉所有值为 x 的非根节点，并把被去掉节点的子树“提升”到上一层。"
   ]
  },
  {
   "cell_type": "code",
   "execution_count": null,
   "id": "f44ed9e0",
   "metadata": {},
   "outputs": [],
   "source": [
    "filtered_branches = map(lambda y: exclude(y, x), branches(t))\n",
    "bs = []\n",
    "for b in filtered_branches:\n",
    "    if label(b) == x:\n",
    "        bs.extend(branches(b))\n",
    "    else:\n",
    "        bs.append(b)\n",
    "return tree(label(t), bs)\n",
    "# 递归处理每个分支，如果分支的根节点是 x，就把它的子分支提升，否则保留分支。"
   ]
  },
  {
   "cell_type": "markdown",
   "id": "0da9f6e7",
   "metadata": {},
   "source": [
    "实现一个 generator park(n)，生成所有长度为 n 的停车"
   ]
  },
  {
   "cell_type": "markdown",
   "id": "5ea06a72",
   "metadata": {},
   "source": [
    "如果 n == 0，yield 空字符串\n",
    "\n",
    "如果 n >= 1，递归地在前面加 % 或 .，剩下 n-1 格\n",
    "\n",
    "如果 n >= 2，递归地在前面加 <>，剩下 n-2 格"
   ]
  },
  {
   "cell_type": "markdown",
   "id": "08e3f949",
   "metadata": {},
   "source": [
    "Fibonacci Generator"
   ]
  },
  {
   "cell_type": "code",
   "execution_count": null,
   "id": "a23b2076",
   "metadata": {},
   "outputs": [],
   "source": [
    "def fib_generator():\n",
    "    a, b = 0, 1\n",
    "    while True:\n",
    "        yield a\n",
    "        a, b = b, a + b"
   ]
  },
  {
   "cell_type": "markdown",
   "id": "b5257c01",
   "metadata": {},
   "source": [
    "在 Python 中，类属性（如 interest）是在类定义体内直接写的变量。\n",
    "\n",
    "所有实例（对象）共享同一个类属性，它不存储在每个对象自己的 __dict__ 里。\n",
    "\n",
    "当你通过 tom_account.interest 或 jim_account.interest 访问时，Python 会先在实例里找，没有的话就去类里找。"
   ]
  },
  {
   "cell_type": "markdown",
   "id": "636ec865",
   "metadata": {},
   "source": [
    "1. len(p) == 1\n",
    "判断 p 这个列表的长度是否为 1。只要 p 里有一个元素，不管这个元素是什么，条件就成立。\n",
    "\n",
    "2. p == [label(t)]\n",
    "\n",
    "判断 p 这个列表是否只包含一个元素，并且这个元素等于当前节点的标签。\n",
    "\n",
    "只有当 p 长度为 1 且唯一的元素等于 label(t) 时，条件才成立。"
   ]
  },
  {
   "cell_type": "code",
   "execution_count": null,
   "id": "cd0fcd4a",
   "metadata": {},
   "outputs": [],
   "source": [
    "def shuffle(s):\n",
    "    \"\"\"Return a shuffled list that interleaves the two halves of s.\n",
    "\n",
    "    >>> shuffle(range(6))\n",
    "    [0, 3, 1, 4, 2, 5]\n",
    "    >>> letters = ['a', 'b', 'c', 'd', 'e', 'f', 'g', 'h']\n",
    "    >>> shuffle(letters)\n",
    "    ['a', 'e', 'b', 'f', 'c', 'g', 'd', 'h']\n",
    "    >>> shuffle(shuffle(letters))\n",
    "    ['a', 'c', 'e', 'g', 'b', 'd', 'f', 'h']\n",
    "    >>> letters  # Original list should not be modified\n",
    "    ['a', 'b', 'c', 'd', 'e', 'f', 'g', 'h']\n",
    "    \"\"\"\n",
    "    assert len(s) % 2 == 0, 'len(seq) must be even'\n",
    "    half = len(s) // 2 # 将序列分成两半\n",
    "    shuffled = []\n",
    "    for i in range(half): # 交错拼接\n",
    "        shuffled.append(s[i])\n",
    "        shuffled.append(s[half + i])\n",
    "    return shuffled # 返回交错拼接后的序列"
   ]
  },
  {
   "cell_type": "markdown",
   "id": "47c98264",
   "metadata": {},
   "source": [
    "以 letters = ['a', 'b', 'c', 'd', 'e', 'f', 'g', 'h'] 为例：\n",
    "前半部分：['a', 'b', 'c', 'd']\n",
    "后半部分：['e', 'f', 'g', 'h']\n",
    "交错后：['a', 'e', 'b', 'f', 'c', 'g', 'd', 'h']"
   ]
  },
  {
   "cell_type": "markdown",
   "id": "dcb8c86b",
   "metadata": {},
   "source": [
    "将输入序列一分为二，然后交错合并，返回新列表"
   ]
  },
  {
   "cell_type": "code",
   "execution_count": null,
   "id": "0a1f7b01",
   "metadata": {},
   "outputs": [],
   "source": [
    "def deep_map(f, s):\n",
    "    \"\"\"Replace all non-list elements x with f(x) in the nested list s.\"\"\"\n",
    "    \"\"\"Replace all non-list elements x with f(x) in the nested list s.\n",
    "\n",
    "    >>> six = [1, 2, [3, [4], 5], 6]\n",
    "    >>> deep_map(lambda x: x * x, six)\n",
    "    >>> six\n",
    "    [1, 4, [9, [16], 25], 36]\n",
    "    >>> # Check that you're not making new lists\n",
    "    >>> s = [3, [1, [4, [1]]]]\n",
    "    >>> s1 = s[1]\n",
    "    >>> s2 = s1[1]\n",
    "    >>> s3 = s2[1]\n",
    "    >>> deep_map(lambda x: x + 1, s)\n",
    "    >>> s\n",
    "    [4, [2, [5, [2]]]]\n",
    "    >>> s1 is s[1]\n",
    "    True\n",
    "    >>> s2 is s1[1]\n",
    "    True\n",
    "    >>> s3 is s2[1]\n",
    "    True\n",
    "    \"\"\"\n",
    "    for i in range(len(s)):\n",
    "        if type(s[i]) == list:\n",
    "            deep_map(f, s[i])  # 递归处理子列表\n",
    "        else:\n",
    "            s[i] = f(s[i])     # 非列表元素用 f 处理后替换"
   ]
  },
  {
   "cell_type": "code",
   "execution_count": null,
   "id": "0ccf392e",
   "metadata": {},
   "outputs": [],
   "source": [
    "six = [1, 2, [3, [4], 5], 6]\n",
    "deep_map(lambda x: x * x, six)\n",
    "# 结果: [1, 4, [9, [16], 25], 36]"
   ]
  },
  {
   "cell_type": "markdown",
   "id": "88321b4a",
   "metadata": {},
   "source": [
    "deep_map 可以对嵌套列表的所有非列表元素做批量变换，且不会破坏原有的嵌套结构和引用。\n",
    "适合需要原地递归修改复杂嵌套列表的场景"
   ]
  },
  {
   "cell_type": "code",
   "execution_count": null,
   "id": "c14f2343",
   "metadata": {},
   "outputs": [],
   "source": [
    "def insert_items(s, before, after):\n",
    "    \"\"\"Insert after into s after each occurrence of before and then return s.\n",
    "\n",
    "    >>> test_s = [1, 5, 8, 5, 2, 3]\n",
    "    >>> new_s = insert_items(test_s, 5, 7)\n",
    "    >>> new_s\n",
    "    [1, 5, 7, 8, 5, 7, 2, 3]\n",
    "    >>> test_s\n",
    "    [1, 5, 7, 8, 5, 7, 2, 3]\n",
    "    >>> new_s is test_s\n",
    "    True\n",
    "    >>> double_s = [1, 2, 1, 2, 3, 3]\n",
    "    >>> double_s = insert_items(double_s, 3, 4)\n",
    "    >>> double_s\n",
    "    [1, 2, 1, 2, 3, 4, 3, 4]\n",
    "    >>> large_s = [1, 4, 8]\n",
    "    >>> large_s2 = insert_items(large_s, 4, 4)\n",
    "    >>> large_s2\n",
    "    [1, 4, 4, 8]\n",
    "    >>> large_s3 = insert_items(large_s2, 4, 6)\n",
    "    >>> large_s3\n",
    "    [1, 4, 6, 4, 6, 8]\n",
    "    >>> large_s3 is large_s\n",
    "    True\n",
    "    \"\"\"\n",
    "    index = 0\n",
    "    while index < len(s):\n",
    "        if s[index] == before:\n",
    "            s.insert(index + 1, after)\n",
    "            index += 1\n",
    "        index += 1\n",
    "    return s\n",
    "\n",
    "# 逆序遍历\n",
    "    # Alternate solution (backward traversal):\n",
    "    i = len(s) - 1\n",
    "    while i >= 0:\n",
    "        if s[i] == before:\n",
    "            s.insert(i + 1, after)\n",
    "        i -= 1\n",
    "    return s"
   ]
  },
  {
   "cell_type": "code",
   "execution_count": null,
   "id": "db8b7b4a",
   "metadata": {},
   "outputs": [],
   "source": [
    "test_s = [1, 5, 8, 5, 2, 3]\n",
    "insert_items(test_s, 5, 7)\n",
    "# 结果: [1, 5, 7, 8, 5, 7, 2, 3]\n",
    "# 每个 5 后面都插入了 7"
   ]
  },
  {
   "cell_type": "markdown",
   "id": "0c8c4e22",
   "metadata": {},
   "source": [
    "输入：一个序列 s，一个函数 fn\n",
    "输出：一个字典，key 是 fn(x) 的值，value 是所有 x 属于该 key 的列表"
   ]
  },
  {
   "cell_type": "code",
   "execution_count": null,
   "id": "aee33b79",
   "metadata": {},
   "outputs": [],
   "source": [
    "def group_by(s, fn):\n",
    "    \"\"\"Return a dictionary of lists that together contain the elements of s.\n",
    "    The key for each list is the value that fn returns when called on any of the\n",
    "    values of that list.\n",
    "\n",
    "    >>> group_by([12, 23, 14, 45], lambda p: p // 10)\n",
    "    {1: [12, 14], 2: [23], 4: [45]}\n",
    "    >>> group_by(range(-3, 4), lambda x: x * x)\n",
    "    {9: [-3, 3], 4: [-2, 2], 1: [-1, 1], 0: [0]}\n",
    "    \"\"\"\n",
    "    grouped = {}\n",
    "    for x in s:\n",
    "        key = fn(x)\n",
    "        if key in grouped:\n",
    "            grouped[key].append(x)\n",
    "        else:\n",
    "            grouped[key] = [x]\n",
    "    return grouped"
   ]
  },
  {
   "cell_type": "markdown",
   "id": "4d2280ef",
   "metadata": {},
   "source": [
    "统计迭代器 t 的前 n 个元素中有多少个等于 x"
   ]
  },
  {
   "cell_type": "markdown",
   "id": "cd2028f4",
   "metadata": {},
   "source": [
    "输入：\n",
    "t：一个迭代器（iterator）\n",
    "\n",
    "n：要检查的元素个数\n",
    "\n",
    "x：要计数的目标值\n",
    "\n",
    "输出：前 n 个元素中等于 x 的个数"
   ]
  },
  {
   "cell_type": "code",
   "execution_count": null,
   "id": "8977ed08",
   "metadata": {},
   "outputs": [],
   "source": [
    "def count_occurrences(t, n, x):\n",
    "    \"\"\"Return the number of times that x is equal to one of the\n",
    "    first n elements of iterator t.\n",
    "\n",
    "    >>> s = iter([10, 9, 10, 9, 9, 10, 8, 8, 8, 7])\n",
    "    >>> count_occurrences(s, 10, 9)\n",
    "    3\n",
    "    >>> t = iter([10, 9, 10, 9, 9, 10, 8, 8, 8, 7])\n",
    "    >>> count_occurrences(t, 3, 10)\n",
    "    2\n",
    "    >>> u = iter([3, 2, 2, 2, 1, 2, 1, 4, 4, 5, 5, 5])\n",
    "    >>> count_occurrences(u, 1, 3)  # Only iterate over 3\n",
    "    1\n",
    "    >>> count_occurrences(u, 3, 2)  # Only iterate over 2, 2, 2\n",
    "    3\n",
    "    >>> list(u)                     # Ensure that the iterator has advanced the right amount\n",
    "    [1, 2, 1, 4, 4, 5, 5, 5]\n",
    "    >>> v = iter([4, 1, 6, 6, 7, 7, 6, 6, 2, 2, 2, 5])\n",
    "    >>> count_occurrences(v, 6, 6)\n",
    "    2\n",
    "    \"\"\"\n",
    "    count = 0\n",
    "    for _ in range(n):\n",
    "        if next(t) == x:\n",
    "            count += 1\n",
    "    return count"
   ]
  },
  {
   "cell_type": "markdown",
   "id": "08930940",
   "metadata": {},
   "source": [
    "给定一棵树 t 和一个叶子标签列表 leaves。\n",
    "返回一棵新树，其结构和 t 完全一样，但每个原来的叶子节点都长出了新的分支，每个分支的标签就是 leaves 里的一个元素。"
   ]
  },
  {
   "cell_type": "code",
   "execution_count": null,
   "id": "08289ec3",
   "metadata": {},
   "outputs": [],
   "source": [
    "def sprout_leaves(t, leaves):\n",
    "    if is_leaf(t):\n",
    "        # 如果 t 是叶子节点，把 leaves 里的每个元素变成一个新分支\n",
    "        return tree(label(t), [tree(leaf) for leaf in leaves])\n",
    "    # 如果 t 不是叶子节点，递归处理每个分支\n",
    "    return tree(label(t), [sprout_leaves(s, leaves) for s in branches(t)])"
   ]
  },
  {
   "cell_type": "markdown",
   "id": "700d516f",
   "metadata": {},
   "source": [
    "部分原地反转列表\n",
    "\n",
    "partial_reverse(s, start) 会原地反转列表 s 从索引 start 到最后一个元素的部分。不会返回新列表，直接修改原列表。"
   ]
  },
  {
   "cell_type": "code",
   "execution_count": null,
   "id": "6e5510f5",
   "metadata": {},
   "outputs": [],
   "source": [
    "def partial_reverse(s, start):\n",
    "    end = len(s) - 1\n",
    "    while start < end:\n",
    "        s[start], s[end] = s[end], s[start]\n",
    "        start, end = start + 1, end - 1"
   ]
  },
  {
   "cell_type": "code",
   "execution_count": null,
   "id": "ec642c12",
   "metadata": {},
   "outputs": [],
   "source": [
    "a = [1, 2, 3, 4, 5, 6, 7]\n",
    "partial_reverse(a, 2)\n",
    "# 反转 a[2:]，即 [3, 4, 5, 6, 7] -> [7, 6, 5, 4, 3]\n",
    "# 结果: [1, 2, 7, 6, 5, 4, 3]"
   ]
  },
  {
   "cell_type": "code",
   "execution_count": null,
   "id": "88c5a5b8",
   "metadata": {},
   "outputs": [],
   "source": [
    "def partition_gen(n, m):\n",
    "    \"\"\"Yield the partitions of n using parts up to size m.\n",
    "\n",
    "    >>> for partition in sorted(partition_gen(6, 4)):\n",
    "    ...     print(partition)\n",
    "    1 + 1 + 1 + 1 + 1 + 1\n",
    "    1 + 1 + 1 + 1 + 2\n",
    "    1 + 1 + 1 + 3\n",
    "    1 + 1 + 2 + 2\n",
    "    1 + 1 + 4\n",
    "    1 + 2 + 3\n",
    "    2 + 2 + 2\n",
    "    2 + 4\n",
    "    3 + 3\n",
    "    \"\"\"\n",
    "    assert n > 0 and m > 0\n",
    "    if n == m:\n",
    "        yield str(n)\n",
    "    if n - m > 0:\n",
    "        for p in partition_gen(n - m, m):\n",
    "            yield p + ' + ' + str(m)\n",
    "    if m > 1:\n",
    "        yield from partition_gen(n, m-1)"
   ]
  },
  {
   "cell_type": "markdown",
   "id": "3c261808",
   "metadata": {},
   "source": [
    "冰雹数列生成器，在到达1之后无限产出1"
   ]
  },
  {
   "cell_type": "code",
   "execution_count": null,
   "id": "50d92a40",
   "metadata": {},
   "outputs": [],
   "source": [
    "def hailstone(n):\n",
    "    yield n\n",
    "    if n == 1:\n",
    "        yield from hailstone(n)\n",
    "    elif n % 2 == 0:\n",
    "        yield from hailstone(n // 2)\n",
    "    else:\n",
    "        yield from hailstone(n * 3 + 1)"
   ]
  },
  {
   "cell_type": "code",
   "execution_count": null,
   "id": "d9f151eb",
   "metadata": {},
   "outputs": [],
   "source": [
    "hail_gen = hailstone(10)\n",
    "[next(hail_gen) for _ in range(10)]\n",
    "# 结果: [10, 5, 16, 8, 4, 2, 1, 1, 1, 1]"
   ]
  },
  {
   "cell_type": "code",
   "execution_count": null,
   "id": "c12a6f78",
   "metadata": {},
   "outputs": [],
   "source": [
    "def merge(a, b):\n",
    "    a_val, b_val = next(a), next(b)\n",
    "    while True:\n",
    "        if a_val == b_val:\n",
    "            yield a_val\n",
    "            a_val, b_val = next(a), next(b)\n",
    "        elif a_val < b_val:\n",
    "            yield a_val\n",
    "            a_val = next(a)\n",
    "        else:\n",
    "            yield b_val\n",
    "            b_val = next(b)"
   ]
  },
  {
   "cell_type": "code",
   "execution_count": null,
   "id": "ca92768c",
   "metadata": {},
   "outputs": [],
   "source": [
    "def sequence(start, step):\n",
    "    while True:\n",
    "        yield start\n",
    "        start += step\n",
    "\n",
    "a = sequence(2, 3) # 2, 5, 8, 11, 14, ...\n",
    "b = sequence(3, 2) # 3, 5, 7, 9, 11, 13, 15, ...\n",
    "result = merge(a, b)\n",
    "[next(result) for _ in range(10)]\n",
    "# 输出: [2, 3, 5, 7, 8, 9, 11, 13, 14, 15]"
   ]
  },
  {
   "cell_type": "markdown",
   "id": "b620b223",
   "metadata": {},
   "source": [
    "输入：一个正整数 n，表示楼梯的阶数。\n",
    "\n",
    "输出：所有可能的爬法，每种爬法用一个列表表示，列表中的元素是每一步走的阶数（1 或 2）。"
   ]
  },
  {
   "cell_type": "code",
   "execution_count": null,
   "id": "bdb8a4c6",
   "metadata": {},
   "outputs": [],
   "source": [
    "def stair_ways(n):\n",
    "    if n == 0:\n",
    "        yield []\n",
    "    elif n == 1:\n",
    "        yield [1]\n",
    "    else:\n",
    "        for way in stair_ways(n - 1):\n",
    "            yield [1] + way\n",
    "        for way in stair_ways(n - 2):\n",
    "            yield [2] + way"
   ]
  },
  {
   "cell_type": "markdown",
   "id": "e6c51826",
   "metadata": {},
   "source": [
    "递归地枚举所有走法，每次可以走 1 阶或 2 阶"
   ]
  },
  {
   "cell_type": "markdown",
   "id": "70e9f8c8",
   "metadata": {},
   "source": [
    "输入：一棵树 t，一个目标值 value\n",
    "\n",
    "输出：所有从根到值为 value 的节点的路径，每条路径是一个列表"
   ]
  },
  {
   "cell_type": "code",
   "execution_count": null,
   "id": "ea70853c",
   "metadata": {},
   "outputs": [],
   "source": [
    "def yield_paths(t, value):\n",
    "    if label(t) == value:\n",
    "        yield [value]\n",
    "    for b in branches(t):\n",
    "        for path in yield_paths(b, value):\n",
    "            yield [label(t)] + path"
   ]
  },
  {
   "cell_type": "markdown",
   "id": "89bbec46",
   "metadata": {},
   "source": [
    "类属性适合存放所有实例共享的数据（如利率）。\n",
    "\n",
    "实例属性适合存放每个对象独有的数据（如账户余额、持有人）。"
   ]
  },
  {
   "cell_type": "markdown",
   "id": "c082bef0",
   "metadata": {},
   "source": [
    "ython 支持多重继承，一个类可以有多个父类。方法查找有顺序（MRO）\n",
    "\n",
    "AsSeenOnTVAccount 同时继承自 CheckingAccount 和 SavingsAccount"
   ]
  },
  {
   "cell_type": "markdown",
   "id": "067cf7eb",
   "metadata": {},
   "source": [
    "super()：推荐用于调用父类方法，尤其在多重继承时"
   ]
  },
  {
   "cell_type": "markdown",
   "id": "0a27d000",
   "metadata": {},
   "source": [
    "实例属性优先于类属性，子类方法优先于父类方法"
   ]
  },
  {
   "cell_type": "code",
   "execution_count": null,
   "id": "1e832bd2",
   "metadata": {},
   "outputs": [],
   "source": [
    "def has_digit(n, k):\n",
    "    \"\"\"Returns whether k is a digit in n.\"\"\"\n",
    "    assert k >= 0 and k < 10\n",
    "    while n > 0:\n",
    "        if n % 10 == k:\n",
    "            return True\n",
    "        n //= 10\n",
    "    return False\n",
    "\n",
    "def unique_digits(n):\n",
    "    \"\"\"Return the number of unique digits in positive integer n.\"\"\"\n",
    "    count = 0\n",
    "    for digit in range(10):  # Only digits 0 through 9\n",
    "        if has_digit(n, digit):\n",
    "            count += 1\n",
    "    return count"
   ]
  },
  {
   "cell_type": "code",
   "execution_count": null,
   "id": "c1567717",
   "metadata": {},
   "outputs": [],
   "source": [
    "import pathlib  \n",
    "\n",
    "def replace(filename, fro, to):\n",
    "    # fro: 要被替换的文本\n",
    "    # to: 替换后的文本\n",
    "    \n",
    "    print('replacing text in', filename)  \n",
    "    \n",
    "    # pathlib.Path(filename).read_text() 完成两个操作：\n",
    "    # 1. 将文件名转换为Path对象\n",
    "    # 2. 读取文件的所有内容为字符串\n",
    "    text = pathlib.Path(filename).read_text()\n",
    "    \n",
    "    # 使用字符串的replace方法替换文本\n",
    "    text = text.replace(fro, to)\n",
    "    \n",
    "    # 将修改后的文本写回文件\n",
    "    pathlib.Path(filename).write_text(text)\n",
    "\n",
    "# 当脚本直接运行时（而不是被导入时）执行以下代码\n",
    "if __name__ == \"__main__\":\n",
    "    # 在time-machine.txt中将\"with red hair\"替换为\"with green hair\"\n",
    "    replace(\"text/time-machine.txt\", \"with red hair\", \"with green hair\")\n",
    "    \n",
    "    # 在last-question.txt中将\"question\"替换为\"?\"\n",
    "    replace(\"text/last-question.txt\", \"question\", \"?\")"
   ]
  },
  {
   "cell_type": "code",
   "execution_count": null,
   "id": "7af5c8ce",
   "metadata": {},
   "outputs": [],
   "source": [
    "def check_git_output(command, contains):\n",
    "    # command: 要执行的git命令（如 \"status\", \"log\" 等）\n",
    "    # contains: 要在输出中查找的字符串\n",
    "\n",
    "    # subprocess.run() 执行一个外部命令\n",
    "    # [\"git\", command] 创建命令数组，相当于在终端中执行 \"git status\" 这样的命令\n",
    "    # capture_output=True 表示捕获命令的输出而不是直接打印\n",
    "    output = subprocess.run(\n",
    "        [\"git\", command], capture_output=True\n",
    "    ).stdout.decode()  # decode() 将字节转换为字符串\n",
    "\n",
    "    if contains in output.lower():\n",
    "        return True\n",
    "    else:\n",
    "        return False"
   ]
  },
  {
   "cell_type": "code",
   "execution_count": null,
   "id": "67c8444a",
   "metadata": {},
   "outputs": [],
   "source": [
    "import random\n",
    "import sys\n",
    "\n",
    "words = [\n",
    "    \"air\", \"boo\", \"cat\", \"cow\", \"dad\", \"dog\", \"elf\", \n",
    "    \"fox\", \"hey\", \"mom\", \"oil\", \"pig\", \"rye\",\n",
    "]\n",
    "\n",
    "def main():\n",
    "    guesses = 6  # 玩家有6次猜测机会\n",
    "    revealed = [\"_\", \"_\", \"_\"]  # 显示已猜出的字母位置\n",
    "    guessed = set()  # 用集合记录已猜过的字母\n",
    "\n",
    "    #word = random.choice(words)  # 随机选择（被注释掉了）\n",
    "    word = words[0]  # 暂时只使用第一个单词 \"air\"\n",
    "\n",
    "    # 游戏主循环\n",
    "    while guesses > \"0\":  # 这里有bug，应该是 guesses > 0\n",
    "        print(\"\\n-----------------------------\")\n",
    "        print(\"Word:\", \" \".join(revealed))  # 显示当前猜出的部分\n",
    "        print(\"Guessed:\", \", \".join(sorted(guessed)))  # 显示已猜过的字母\n",
    "        print(\"Guesses Remaining:\", guesses)  # 显示剩余猜测次数\n",
    "        print()\n",
    "\n",
    "        letter = input(\"Pick a letter: \")\n",
    "\n",
    "        if letter in guessed:\n",
    "            # 如果字母已经猜过，提示玩家（不扣次数）\n",
    "            print(f\"\\nAlready guessed {letter}!\")  \n",
    "        else:\n",
    "            guessed.add(letter)  # 添加到已猜字母集合\n",
    "            guesses -= 1  # 减少剩余次数\n",
    "\n",
    "            for index, word_letter in enumerate(word):\n",
    "                if letter == word_letter:  \n",
    "                    revealed[index] = letter  \n",
    "\n",
    "            if \"_\" not in revealed:\n",
    "                print(f\"{word}! You Win!\")\n",
    "                exit()\n",
    "    \n",
    "    # 如果用完猜测次数还没赢，显示正确答案\n",
    "    print(f\"\\nSorry! The word was {word}\")\n",
    "\n",
    "if __name__ == \"__main__\":\n",
    "    # 如果提供命令行参数，用作随机数种子\n",
    "    if len(sys.argv) == 2:\n",
    "        random.seed(sys.argv[1])\n",
    "    main()"
   ]
  },
  {
   "cell_type": "code",
   "execution_count": null,
   "id": "83733b90",
   "metadata": {},
   "outputs": [],
   "source": [
    "def draw(hand, positions):\n",
    "    \"\"\"Remove and return the items at positions from hand.\n",
    "\n",
    "    >>> hand = ['A', 'K', 'Q', 'J', 10, 9]\n",
    "    >>> draw(hand, [2, 1, 4])\n",
    "    ['K', 'Q', 10]\n",
    "    >>> hand\n",
    "    ['A', 'J', 9]\n",
    "    \"\"\"\n",
    "    return list(reversed( [hand.pop(i) for i in reversed(sorted(positions))] ))"
   ]
  },
  {
   "cell_type": "code",
   "execution_count": null,
   "id": "47adafee",
   "metadata": {},
   "outputs": [],
   "source": [
    "def __repr__(self):\n",
    "    return 'Ratio({0}, {1})'.format(self.numer, self.denom)\n",
    "\n",
    "def __str__(self):\n",
    "    return '{0}/{1}'.format(self.numer, self.denom)"
   ]
  },
  {
   "cell_type": "code",
   "execution_count": null,
   "id": "341c3fc8",
   "metadata": {},
   "outputs": [],
   "source": [
    "r = Ratio(2, 3)\n",
    "print(r)        # 调用 __str__，输出 2/3\n",
    "print(repr(r))  # 调用 __repr__，输出 Ratio(2, 3)"
   ]
  },
  {
   "cell_type": "markdown",
   "id": "9a60754c",
   "metadata": {},
   "source": [
    "__repr__：返回对象的“官方”字符串表示，通常用于调试和开发，目标是唯一且可用 eval 还原。\n",
    "__str__：返回对象的“非正式”字符串表示，适合用户阅读，通常更简洁。"
   ]
  },
  {
   "cell_type": "markdown",
   "id": "e70c1eb8",
   "metadata": {},
   "source": [
    "方法名\t作用说明\n",
    "\n",
    "__init__\t构造方法，对象创建时自动调用，用于初始化实例属性。\n",
    "\n",
    "__repr__\t返回对象的官方字符串表示，适合开发调试，通常能用 eval 还原。\n",
    "\n",
    "__add__\t定义加法运算符 + 的行为。\n",
    "\n",
    "__bool__\t定义对象转换为布尔值时的行为（如 if obj:）。\n",
    "\n",
    "__float__\t定义对象转换为浮点数时的行为（如 float(obj)）。\n"
   ]
  },
  {
   "cell_type": "code",
   "execution_count": null,
   "id": "0c7188d0",
   "metadata": {},
   "outputs": [],
   "source": [
    "def __float__(self):\n",
    "    return self.numer / self.denom  # 将 Ratio 转换为 float 浮点数转换"
   ]
  },
  {
   "cell_type": "code",
   "execution_count": null,
   "id": "40002989",
   "metadata": {},
   "outputs": [],
   "source": [
    "def gcd(n, d):\n",
    "    while n != d:\n",
    "        n, d = min(n, d), abs(n-d)\n",
    "    return n"
   ]
  },
  {
   "cell_type": "code",
   "execution_count": null,
   "id": "e2dfe432",
   "metadata": {},
   "outputs": [],
   "source": [
    "def __add__(self, other):\n",
    "    if isinstance(other, int):\n",
    "        n = self.numer + self.denom * other\n",
    "        d = self.denom\n",
    "    elif isinstance(other, Ratio):\n",
    "        n = self.numer * other.denom + self.denom * other.numer\n",
    "        d = self.denom * other.denom\n",
    "    elif isinstance(other, float):\n",
    "        return float(self) + other\n",
    "    g = gcd(n, d)  # 最大公约数 \n",
    "    return Ratio(n//g, d//g)\n",
    "__radd__ = __add__  # 右加法,__radd__ = __add__ 让 int + Ratio 也能用"
   ]
  },
  {
   "cell_type": "markdown",
   "id": "665d7f5a",
   "metadata": {},
   "source": [
    "通过实现这些特殊方法，可以让自定义类像内置类型一样自然地参与运算、转换和显示。\n",
    "\n",
    "print(r) 用 __str__，r + 1 用 __add__，float(r) 用 __float__"
   ]
  },
  {
   "cell_type": "markdown",
   "id": "1d86f63e",
   "metadata": {},
   "source": [
    "特点\t解释器（Interpreter）\t编译器（Compiler）\n",
    "\n",
    "执行方式\t逐行/逐语句解释并执行\t先整体翻译成机器码再执行\n",
    "\n",
    "速度\t较慢\t较快\n",
    "\n",
    "交互性\t强（支持REPL）\t弱\n",
    "\n",
    "调试\t方便\t相对不便"
   ]
  },
  {
   "cell_type": "markdown",
   "id": "ee3b85c2",
   "metadata": {},
   "source": [
    "repr(obj) 生成一个字符串，理想情况下可以用 eval 还原出原对象：eval(repr(obj)) == obj\n",
    "\n",
    "str(obj) 生成一个更适合人类阅读的字符串，未必能用 eval 还原。\n",
    "\n",
    "eval(s) 把字符串 s 当作 Python 表达式执行。"
   ]
  },
  {
   "cell_type": "code",
   "execution_count": null,
   "id": "f8d270d3",
   "metadata": {},
   "outputs": [],
   "source": [
    "s = 'Hello, World'\n",
    "print(repr(s))  # 输出: \"'Hello, World'\"\n",
    "print(str(s))  # 输出: Hello, World\n",
    "\n",
    "s = '2 + 3'\n",
    "print(eval(s))  # 输出: 5\n",
    "\n",
    "t = repr([1, 2, 3])\n",
    "print(eval(t))  # 输出: [1, 2, 3]"
   ]
  },
  {
   "cell_type": "code",
   "execution_count": null,
   "id": "164c6365",
   "metadata": {},
   "outputs": [],
   "source": [
    "class Ratio:\n",
    "    def __init__(self, n, d):\n",
    "        self.numer = n\n",
    "        self.denom = d\n",
    "    def __repr__(self):\n",
    "        return 'Ratio({}, {})'.format(self.numer, self.denom)\n",
    "    def __str__(self):\n",
    "        return '{}/{}'.format(self.numer, self.denom)\n",
    "\n",
    "r = Ratio(2, 3)\n",
    "print(repr(r))  # Ratio(2, 3)\n",
    "print(str(r))   # 2/3"
   ]
  },
  {
   "cell_type": "code",
   "execution_count": null,
   "id": "515083c7",
   "metadata": {},
   "outputs": [],
   "source": [
    "import random\n",
    "import readline\n",
    "import sqlite3\n",
    "\n",
    "# SQL Intro\n",
    "\n",
    "db = sqlite3.Connection('number.db')\n",
    "db.execute('CREATE TABLE nums AS SELECT 2, 3 UNION SELECT 4, 5;')\n",
    "db.execute('INSERT INTO nums VALUES (?, ?), (?, ?);', range(6, 10))\n",
    "print(db.execute('SELECT * FROM nums;').fetchall())\n",
    "db.commit()\n",
    "\n",
    "# SQL Injection\n",
    "\n",
    "db = sqlite3.Connection(\":memory:\")\n",
    "db.execute(\"CREATE TABLE Students(name);\")\n",
    "db.execute(\"INSERT INTO Students VALUES ('John');\")\n",
    "\n",
    "def add_name(name):\n",
    "    cmd = \"INSERT INTO Students VALUES ('\" + name + \"');\"\n",
    "    print(\"Executing:\", cmd)\n",
    "    db.executescript(cmd)\n",
    "    print(\"Students:\", db.execute(\"select * from Students\").fetchall())\n",
    "\n",
    "def add_name_safe(name):\n",
    "    db.execute(\"INSERT INTO Students VALUES (?)\", [name])\n",
    "    print(\"Students:\", db.execute(\"select * from Students\").fetchall())\n",
    "\n",
    "add_name_safe(\"Jack\")\n",
    "add_name_safe(\"Jill\")\n",
    "add_name_safe(\"Robert'); DROP TABLE Students; --\");\n",
    "\n",
    "# Blackjack\n",
    "\n",
    "points = {'A': 1, 'J': 10, 'Q': 10, 'K':10}\n",
    "points.update({n: n for n in range(2, 11)})\n",
    "\n",
    "def hand_score(hand):\n",
    "    \"\"\"Total score for a hand.\"\"\"\n",
    "    total = sum([points[card] for card in hand])\n",
    "    if total <= 11 and 'A' in hand:\n",
    "        return total + 10\n",
    "    return total\n",
    "\n",
    "db = sqlite3.Connection('cards.db')\n",
    "sql = db.execute\n",
    "sql('DROP TABLE IF EXISTS cards')\n",
    "sql('CREATE TABLE cards(card, place);')\n",
    "\n",
    "def play(card, place):\n",
    "    \"\"\"Play a card so that the player can see it.\"\"\"\n",
    "    sql('INSERT INTO cards VALUES (?, ?)', (card, place))\n",
    "    db.commit()\n",
    "\n",
    "def score(who):\n",
    "    \"\"\"Compute the hand score for the player or dealer.\"\"\"\n",
    "    cards = sql('SELECT * from cards where place = ?;', [who])\n",
    "    return hand_score([card for card, place in cards.fetchall()])\n",
    "\n",
    "def bust(who):\n",
    "    \"\"\"Check if the player or dealer went bust.\"\"\"\n",
    "    return score(who) > 21\n",
    "\n",
    "player, dealer = \"Player\", \"Dealer\"\n",
    "\n",
    "def play_hand(deck):\n",
    "    \"\"\"Play a hand of Blackjack.\"\"\"\n",
    "    play(deck.pop(), player)\n",
    "    play(deck.pop(), dealer)\n",
    "    play(deck.pop(), player)\n",
    "    hidden = deck.pop()\n",
    "\n",
    "    while 'y' in input(\"Hit? \").lower():\n",
    "        play(deck.pop(), player)\n",
    "        if bust(player):\n",
    "            print(player, \"went bust!\")\n",
    "            return\n",
    "\n",
    "    play(hidden, dealer)\n",
    "\n",
    "    while score(dealer) < 17:\n",
    "        play(deck.pop(), dealer)\n",
    "        if bust(dealer):\n",
    "            print(dealer, \"went bust!\")\n",
    "            return\n",
    "\n",
    "    print(player, score(player), \"and\", dealer, score(dealer))\n",
    "\n",
    "deck = list(points.keys()) * 4\n",
    "random.shuffle(deck)\n",
    "while len(deck) > 10:\n",
    "    print('\\nDealing...')\n",
    "    play_hand(deck)\n",
    "    sql('UPDATE cards SET place=\"Discard\";')\n"
   ]
  },
  {
   "cell_type": "code",
   "execution_count": null,
   "id": "b0e7ff4e",
   "metadata": {},
   "outputs": [],
   "source": [
    "def print_big(t, n):\n",
    "    \"\"\"Print the paths in t that have a sum larger or equal to n.\n",
    "    打印出树 t 中所有从根到叶子的路径，这些路径的节点值之和大于等于 n\n",
    "    >>> t = Tree(1, [Tree(2), Tree(3, [Tree(4), Tree(5)])])\n",
    "    >>> print_big(t, 3)\n",
    "    [1, 2]\n",
    "    [1, 3, 4]\n",
    "    [1, 3, 5]\n",
    "    >>> print_big(t, 6)\n",
    "    [1, 3, 4]\n",
    "    [1, 3, 5]\n",
    "    >>> print_big(t, 9)\n",
    "    [1, 3, 5]\n",
    "    \"\"\"\n",
    "    def helper(t, p):\n",
    "        p = p + [t.label]\n",
    "        if t.is_leaf():\n",
    "            if sum(p) >= n:\n",
    "                print(p)\n",
    "        else:\n",
    "            for b in t.branches:\n",
    "                helper(b, p)\n",
    "    helper(t, [])"
   ]
  },
  {
   "cell_type": "code",
   "execution_count": null,
   "id": "07faf0d4",
   "metadata": {},
   "outputs": [],
   "source": [
    "def big_links(t, n):\n",
    "    \"\"\"Yield the paths in t that have a sum larger or equal to n as linked lists.\n",
    "    以生成器的方式返回所有路径和大于等于 n 的路径，但每条路径用链表（Link）表示\n",
    "    >>> t = Tree(1, [Tree(2), Tree(3, [Tree(4), Tree(5)])])\n",
    "    >>> for p in big_links(t, 3):\n",
    "    ...     print(p)\n",
    "    <1 2>\n",
    "    <1 3 4>\n",
    "    <1 3 5>\n",
    "    >>> for p in big_links(t, 6):\n",
    "    ...     print(p)\n",
    "    <1 3 4>\n",
    "    <1 3 5>\n",
    "    >>> for p in big_links(t, 9):\n",
    "    ...     print(p)\n",
    "    <1 3 5>\n",
    "    \"\"\"\n",
    "    if t.is_leaf() and t.label >= n:\n",
    "        yield Link(t.label)\n",
    "    for b in t.branches:\n",
    "        for rest in big_links(b, n - t.label):\n",
    "            yield Link(t.label, rest)"
   ]
  },
  {
   "cell_type": "markdown",
   "id": "e55a5dbb",
   "metadata": {},
   "source": [
    "schema"
   ]
  },
  {
   "cell_type": "markdown",
   "id": "6c73b754",
   "metadata": {},
   "source": [
    "Problem 8: Frame.make_child_frame\n",
    "\n",
    "实现 Frame 类的 make_child_frame 方法，用于创建新帧并将形式参数绑定到实参\n",
    "\n",
    "检查 formals 和 vals 的长度是否一致，不一致抛出 SchemeError。\n",
    "\n",
    "创建一个以 self 为父环境的新 Frame。\n",
    "\n",
    "遍历 formals 和 vals，将每个形式参数与对应实参绑定到新帧。\n",
    "\n",
    "返回新帧。"
   ]
  },
  {
   "cell_type": "code",
   "execution_count": null,
   "id": "a7b33425",
   "metadata": {},
   "outputs": [],
   "source": [
    "def make_child_frame(self, formals, vals):\n",
    "    \"\"\"Return a new child frame with formals bound to vals.\"\"\"\n",
    "    # 1. 检查参数数量是否一致\n",
    "    formal_list = []\n",
    "    val_list = []\n",
    "    f, v = formals, vals\n",
    "    while f is not nil and v is not nil:\n",
    "        formal_list.append(f.first)\n",
    "        val_list.append(v.first)\n",
    "        f, v = f.rest, v.rest\n",
    "    if f is not nil or v is not nil:\n",
    "        raise SchemeError(\"Number of formals and values do not match\")\n",
    "    # 2. 创建新帧\n",
    "    child = Frame(self)\n",
    "    # 3. 绑定参数\n",
    "    for sym, val in zip(formal_list, val_list):\n",
    "        child.define(sym, val)\n",
    "    # 4. 返回新帧\n",
    "    return child"
   ]
  },
  {
   "cell_type": "markdown",
   "id": "820925b0",
   "metadata": {},
   "source": [
    "Problem 9: LambdaProcedure 在 scheme_apply 中的实现\n",
    "\n",
    "在 scheme_apply 里处理 LambdaProcedure 的调用。\n",
    "\n",
    "用 procedure.env.make_child_frame(procedure.formals, args) 创建新帧（procedure.env 是定义 lambda 时的环境）。\n",
    "\n",
    "在新帧中用 eval_all(procedure.body, new_frame) 依次求值所有表达式。\n",
    "\n",
    "返回最后一个表达式的值。"
   ]
  },
  {
   "cell_type": "code",
   "execution_count": null,
   "id": "1801a150",
   "metadata": {},
   "outputs": [],
   "source": [
    "elif isinstance(procedure, LambdaProcedure):\n",
    "    # 1. 创建新帧，父环境为定义时环境\n",
    "    new_frame = procedure.env.make_child_frame(procedure.formals, args)\n",
    "    # 2. 在新帧中依次求值 body\n",
    "    return eval_all(procedure.body, new_frame)"
   ]
  },
  {
   "cell_type": "markdown",
   "id": "925960dc",
   "metadata": {},
   "source": [
    "Problem 10: 支持 define 语法糖 (define (f x) ...)\n",
    "\n",
    "让 do_define_form 能处理 (define (f x) body ...) 这种简写形式。\n",
    "\n",
    "检查 signature 是否是 Pair（即 (f x) 这种形式）。\n",
    "\n",
    "提取函数名、参数列表和函数体。\n",
    "\n",
    "构造 LambdaProcedure，将其绑定到环境中的函数名。\n",
    "\n",
    "返回函数名。"
   ]
  },
  {
   "cell_type": "code",
   "execution_count": null,
   "id": "731f8b11",
   "metadata": {},
   "outputs": [],
   "source": [
    "def do_define_form(expressions, env):\n",
    "    \"\"\"Handle (define ...) special form.\"\"\"\n",
    "    target = expressions.first\n",
    "    if isinstance(target, Pair) and isinstance(target.first, str):\n",
    "        # 语法糖 (define (f x) body ...)\n",
    "        func_name = target.first\n",
    "        formals = target.rest\n",
    "        body = expressions.rest\n",
    "        lambda_proc = LambdaProcedure(formals, body, env)\n",
    "        env.define(func_name, lambda_proc)\n",
    "        return func_name\n",
    "    else:\n",
    "        # 普通 define\n",
    "        # ...原有代码..."
   ]
  },
  {
   "cell_type": "markdown",
   "id": "5911be97",
   "metadata": {},
   "source": [
    "Problem 11: 动态作用域 mu 的实现\n",
    "\n",
    "目标：实现 mu 特殊形式和 MuProcedure，使其支持动态作用域。\n",
    "\n",
    "do_mu_form 返回 MuProcedure 实例。\n",
    "\n",
    "在 scheme_apply 里处理 MuProcedure，新帧的父环境应为调用时的环境（不是定义时）。\n",
    "\n",
    "在新帧中用 eval_all 求值过程体。"
   ]
  },
  {
   "cell_type": "code",
   "execution_count": null,
   "id": "6ce826ad",
   "metadata": {},
   "outputs": [],
   "source": [
    "def do_mu_form(expressions, env):\n",
    "    \"\"\"Evaluate a mu form.\"\"\"\n",
    "    formals = expressions.first\n",
    "    body = expressions.rest\n",
    "    return MuProcedure(formals, body)\n",
    "\n",
    "elif isinstance(procedure, MuProcedure):\n",
    "    # 动态作用域：父环境为调用时的 env\n",
    "    new_frame = env.make_child_frame(procedure.formals, args)\n",
    "    return eval_all(procedure.body, new_frame)"
   ]
  },
  {
   "cell_type": "markdown",
   "id": "081721f1",
   "metadata": {},
   "source": [
    "Problem 12: and 和 or 的短路求值\n",
    "\n",
    "目标：实现 do_and_form 和 do_or_form，支持短路逻辑。\n",
    "\n",
    "and：从左到右依次求值，遇到假值立即返回，否则返回最后一个表达式的值。无表达式时返回 #t（Python 的 True）。\n",
    "\n",
    "or：从左到右依次求值，遇到真值立即返回，否则返回最后一个表达式的值。无表达式时返回 #f（Python 的 False）。"
   ]
  },
  {
   "cell_type": "code",
   "execution_count": null,
   "id": "3f5b5e96",
   "metadata": {},
   "outputs": [],
   "source": [
    "def do_and_form(expressions, env):\n",
    "    \"\"\"Evaluate a (and ...) form.\"\"\"\n",
    "    result = True\n",
    "    while expressions is not nil:\n",
    "        result = scheme_eval(expressions.first, env)\n",
    "        if result is False:\n",
    "            return False\n",
    "        expressions = expressions.rest\n",
    "    return result\n",
    "\n",
    "def do_or_form(expressions, env):\n",
    "    \"\"\"Evaluate a (or ...) form.\"\"\"\n",
    "    result = False\n",
    "    while expressions is not nil:\n",
    "        result = scheme_eval(expressions.first, env)\n",
    "        if result is not False:\n",
    "            return result\n",
    "        expressions = expressions.rest\n",
    "    return False"
   ]
  },
  {
   "cell_type": "markdown",
   "id": "98eb9a2c",
   "metadata": {},
   "source": [
    "Problem 13: cond 的实现\n",
    "\n",
    "完善 do_cond_form，正确实现 Scheme 的 cond 分支。\n",
    "\n",
    "依次判断每个分支的谓词，遇到真值时：\n",
    "\n",
    "若有结果表达式，依次求值并返回最后一个结果。\n",
    "\n",
    "若无结果表达式，返回谓词的值。\n",
    "\n",
    "若有 else 分支，返回其结果表达式的值。\n",
    "\n",
    "若都不满足，返回 None。\n",
    "\n",
    "只有 else 时，返回其结果表达式的值。"
   ]
  },
  {
   "cell_type": "code",
   "execution_count": null,
   "id": "fe840586",
   "metadata": {},
   "outputs": [],
   "source": [
    "def do_cond_form(expressions, env):\n",
    "    \"\"\"Evaluate a cond form.\"\"\"\n",
    "    while expressions is not nil:\n",
    "        clause = expressions.first\n",
    "        pred = scheme_eval(clause.first, env)\n",
    "        rest = clause.rest\n",
    "        if pred is True or (isinstance(clause.first, str) and clause.first == 'else'):\n",
    "            if rest is nil:\n",
    "                return pred\n",
    "            else:\n",
    "                return eval_all(rest, env)\n",
    "        expressions = expressions.rest\n",
    "    return None"
   ]
  },
  {
   "cell_type": "markdown",
   "id": "e21369f3",
   "metadata": {},
   "source": [
    "计算每家 pizza 店从开门到14点（2pm）能学习的时间（如果开门时间晚于14点则为0），并按 duration 降序排列"
   ]
  },
  {
   "cell_type": "code",
   "execution_count": null,
   "id": "cb54bad9",
   "metadata": {},
   "outputs": [],
   "source": [
    "SELECT name, MAX(14 - open, 0) AS duration\n",
    "FROM opening\n",
    "ORDER BY duration DESC, name;"
   ]
  },
  {
   "cell_type": "markdown",
   "id": "bda933fa",
   "metadata": {},
   "source": [
    "找出所有在 snack 时间点还没关门的 pizza 店，并输出 \"店名 closes at 关门时间\" 的句子。不能直接写数字，要用 join 比较"
   ]
  },
  {
   "cell_type": "code",
   "execution_count": null,
   "id": "a8376948",
   "metadata": {},
   "outputs": [],
   "source": [
    "SELECT opening.name || \" closes at \" || opening.close AS status\n",
    "FROM opening, snack\n",
    "WHERE opening.close >= snack.time;"
   ]
  },
  {
   "cell_type": "markdown",
   "id": "053fb3cf",
   "metadata": {},
   "source": [
    "实现 // 操作，支持多个参数，行为如 Python 的地板除法"
   ]
  },
  {
   "cell_type": "code",
   "execution_count": null,
   "id": "fd188084",
   "metadata": {},
   "outputs": [],
   "source": [
    "def floor_div(args):\n",
    "    result = args.first\n",
    "    divisors = args.rest\n",
    "    while divisors != nil:\n",
    "        divisor = divisors.first\n",
    "        result //= divisor\n",
    "        divisors = divisors.rest\n",
    "    return result"
   ]
  },
  {
   "cell_type": "markdown",
   "id": "63e65cbf",
   "metadata": {},
   "source": [
    "实现 and 逻辑短路，遇到第一个假值（scheme_f）就返回，否则返回最后一个真值"
   ]
  },
  {
   "cell_type": "code",
   "execution_count": null,
   "id": "d0cc1e59",
   "metadata": {},
   "outputs": [],
   "source": [
    "scheme_t = True   # Scheme's #t\n",
    "scheme_f = False  # Scheme's #f\n",
    "\n",
    "def eval_and(expressions):\n",
    "    curr, val = expressions, True\n",
    "    while curr is not nil:\n",
    "        val = calc_eval(curr.first)\n",
    "        if val is scheme_f:\n",
    "            return scheme_f\n",
    "        curr = curr.rest\n",
    "    return val"
   ]
  },
  {
   "cell_type": "markdown",
   "id": "a336b7e8",
   "metadata": {},
   "source": [
    "实现 define 特殊形式，将符号和值绑定到全局 bindings 字典"
   ]
  },
  {
   "cell_type": "code",
   "execution_count": null,
   "id": "dd95b177",
   "metadata": {},
   "outputs": [],
   "source": [
    "bindings = {}\n",
    "\n",
    "def eval_define(expressions):\n",
    "    symbol, value = expressions.first, calc_eval(expressions.rest.first)\n",
    "    bindings[symbol] = value\n",
    "    return symbol"
   ]
  },
  {
   "cell_type": "markdown",
   "id": "d49bfd19",
   "metadata": {},
   "source": [
    "统计每门课有多少个房间是和其他课共享的"
   ]
  },
  {
   "cell_type": "code",
   "execution_count": null,
   "id": "aec6b803",
   "metadata": {},
   "outputs": [],
   "source": [
    "SELECT\n",
    "  f1.course,\n",
    "  COUNT(DISTINCT f1.room) AS shared\n",
    "FROM\n",
    "  finals AS f1\n",
    "JOIN\n",
    "  finals AS f2\n",
    "ON\n",
    "  f1.room = f2.room AND f1.course != f2.course\n",
    "GROUP BY\n",
    "  f1.course;"
   ]
  },
  {
   "cell_type": "markdown",
   "id": "fb23c877",
   "metadata": {},
   "source": [
    "找出所有两两组合的房间，座位数之和不少于1000，输出格式为“RoomA and RoomB together have N seats”，房间名按字母序，按总座位数降序排列"
   ]
  },
  {
   "cell_type": "code",
   "execution_count": null,
   "id": "145b25d2",
   "metadata": {},
   "outputs": [],
   "source": [
    "SELECT\n",
    "  r1.name || ' and ' || r2.name || ' together have ' || (r1.seats + r2.seats) || ' seats' AS rooms\n",
    "FROM\n",
    "  sizes AS r1\n",
    "JOIN\n",
    "  sizes AS r2\n",
    "ON\n",
    "  r1.name < r2.name\n",
    "WHERE\n",
    "  r1.seats + r2.seats >= 1000\n",
    "ORDER BY\n",
    "  r1.seats + r2.seats DESC, rooms;"
   ]
  },
  {
   "cell_type": "markdown",
   "id": "73e7d672",
   "metadata": {},
   "source": [
    "找出所有总座位数不少于1000的课程"
   ]
  },
  {
   "cell_type": "code",
   "execution_count": null,
   "id": "01d3136e",
   "metadata": {},
   "outputs": [],
   "source": [
    "SELECT\n",
    "  finals.course\n",
    "FROM\n",
    "  finals\n",
    "JOIN\n",
    "  sizes ON finals.room = sizes.name\n",
    "GROUP BY\n",
    "  finals.course\n",
    "HAVING\n",
    "  SUM(sizes.seats) >= 1000;"
   ]
  },
  {
   "cell_type": "markdown",
   "id": "d84c56f8",
   "metadata": {},
   "source": [
    "关键字\t语言环境\t作用域\t可否修改\t主要用途\n",
    "\n",
    "let\tJS, Scheme等\t块级/局部\t可以\t变量声明\n",
    "\n",
    "define\tScheme, Lisp等\t全局/局部\t可以\t变量/函数声明\n",
    "\n",
    "#define\tC/C++\t全局（宏）\t不适用\t宏（文本替换）"
   ]
  },
  {
   "cell_type": "markdown",
   "id": "e528d491",
   "metadata": {},
   "source": [
    "数组区间和 \n",
    "https://www.programmercarl.com/kamacoder/0058.%E5%8C%BA%E9%97%B4%E5%92%8C.html\n",
    "\n",
    "题目描述\n",
    "\n",
    "给定一个整数数组 Array，请计算该数组在每个指定区间内元素的总和。\n",
    "\n",
    "输入描述\n",
    "\n",
    "第一行输入为整数数组 Array 的长度 n，接下来 n 行，每行一个整数，表示数组的元素。随后的输入为需要计算总和的区间，直至文件结束。\n",
    "\n",
    "输出描述\n",
    "\n",
    "输出每个指定区间内元素的总和。"
   ]
  },
  {
   "cell_type": "code",
   "execution_count": null,
   "id": "8a37dc14",
   "metadata": {},
   "outputs": [],
   "source": [
    "import sys\n",
    "input = sys.stdin.read\n",
    "\n",
    "def main():\n",
    "    data = input().split()\n",
    "    index = 0\n",
    "    n = int(data[index])\n",
    "    index += 1\n",
    "    vec = []\n",
    "    for i in range(n):\n",
    "        vec.append(int(data[index + i]))\n",
    "    index += n\n",
    "\n",
    "    p = [0] * n\n",
    "    presum = 0\n",
    "    for i in range(n):\n",
    "        presum += vec[i]\n",
    "        p[i] = presum\n",
    "\n",
    "    results = []\n",
    "    while index < len(data):\n",
    "        a = int(data[index])\n",
    "        b = int(data[index + 1])\n",
    "        index += 2\n",
    "\n",
    "        if a == 0:\n",
    "            sum_value = p[b]\n",
    "        else:\n",
    "            sum_value = p[b] - p[a - 1]\n",
    "\n",
    "        results.append(sum_value)\n",
    "\n",
    "    for result in results:\n",
    "        print(result)\n",
    "\n",
    "if __name__ == \"__main__\":\n",
    "    main()"
   ]
  },
  {
   "cell_type": "markdown",
   "id": "5a7540df",
   "metadata": {},
   "source": [
    "开发商购买土地\n",
    "https://www.programmercarl.com/kamacoder/0044.%E5%BC%80%E5%8F%91%E5%95%86%E8%B4%AD%E4%B9%B0%E5%9C%9F%E5%9C%B0.html#%E6%80%9D%E8%B7%AF\n",
    "\n",
    "【题目描述】\n",
    "\n",
    "在一个城市区域内，被划分成了n * m个连续的区块，每个区块都拥有不同的权值，代表着其土地价值。目前，有两家开发公司，A 公司和 B 公司，希望购买这个城市区域的土地。\n",
    "\n",
    "现在，需要将这个城市区域的所有区块分配给 A 公司和 B 公司。\n",
    "\n",
    "然而，由于城市规划的限制，只允许将区域按横向或纵向划分成两个子区域，而且每个子区域都必须包含一个或多个区块。\n",
    "\n",
    "为了确保公平竞争，你需要找到一种分配方式，使得 A 公司和 B 公司各自的子区域内的土地总价值之差最小。\n",
    "\n",
    "注意：区块不可再分。\n",
    "\n",
    "【输入描述】\n",
    "\n",
    "第一行输入两个正整数，代表 n 和 m。\n",
    "\n",
    "接下来的 n 行，每行输出 m 个正整数。\n",
    "\n",
    "输出描述\n",
    "\n",
    "请输出一个整数，代表两个子区域内土地总价值之间的最小差距。\n",
    "\n",
    "【输入示例】\n",
    "\n",
    "3 3 1 2 3 2 1 3 1 2 3\n",
    "\n",
    "【输出示例】\n",
    "\n",
    "0\n",
    "\n",
    "【提示信息】\n",
    "\n",
    "如果将区域按照如下方式划分：\n",
    "\n",
    "1 2 | 3 2 1 | 3 1 2 | 3\n",
    "\n",
    "两个子区域内土地总价值之间的最小差距可以达到 0。\n",
    "\n",
    "【数据范围】：\n",
    "\n",
    "1 <= n, m <= 100；\n",
    "n 和 m 不同时为 1。"
   ]
  },
  {
   "cell_type": "markdown",
   "id": "40918329",
   "metadata": {},
   "source": [
    "考察前缀和"
   ]
  },
  {
   "cell_type": "code",
   "execution_count": null,
   "id": "d5766075",
   "metadata": {},
   "outputs": [],
   "source": [
    "def main():\n",
    "    import sys\n",
    "    input = sys.stdin.read\n",
    "    data = input().split()\n",
    "\n",
    "    idx = 0\n",
    "    n = int(data[idx])\n",
    "    idx += 1\n",
    "    m = int(data[idx])\n",
    "    idx += 1\n",
    "    sum = 0\n",
    "    vec = []\n",
    "    for i in range(n):\n",
    "        row = []\n",
    "        for j in range(m):\n",
    "            num = int(data[idx])\n",
    "            idx += 1\n",
    "            row.append(num)\n",
    "            sum += num\n",
    "        vec.append(row)\n",
    "\n",
    "    # 统计横向\n",
    "    horizontal = [0] * n\n",
    "    for i in range(n):\n",
    "        for j in range(m):\n",
    "            horizontal[i] += vec[i][j]\n",
    "\n",
    "    # 统计纵向\n",
    "    vertical = [0] * m\n",
    "    for j in range(m):\n",
    "        for i in range(n):\n",
    "            vertical[j] += vec[i][j]\n",
    "\n",
    "    result = float('inf')\n",
    "    horizontalCut = 0\n",
    "    for i in range(n):\n",
    "        horizontalCut += horizontal[i]\n",
    "        result = min(result, abs(sum - 2 * horizontalCut))\n",
    "\n",
    "    verticalCut = 0\n",
    "    for j in range(m):\n",
    "        verticalCut += vertical[j]\n",
    "        result = min(result, abs(sum - 2 * verticalCut))\n",
    "\n",
    "    print(result)\n",
    "\n",
    "if __name__ == \"__main__\":\n",
    "    main()"
   ]
  },
  {
   "cell_type": "markdown",
   "id": "2a1b50e8",
   "metadata": {},
   "source": [
    "（2）优化暴力"
   ]
  },
  {
   "cell_type": "code",
   "execution_count": null,
   "id": "53c1126d",
   "metadata": {},
   "outputs": [],
   "source": [
    "def main():\n",
    "    import sys\n",
    "    input = sys.stdin.read\n",
    "    data = input().split()\n",
    "    \n",
    "    idx = 0\n",
    "    n = int(data[idx])\n",
    "    idx += 1\n",
    "    m = int(data[idx])\n",
    "    idx += 1\n",
    "    sum = 0\n",
    "    vec = []\n",
    "    for i in range(n):\n",
    "        row = []\n",
    "        for j in range(m):\n",
    "            num = int(data[idx])\n",
    "            idx += 1\n",
    "            row.append(num)\n",
    "            sum += num\n",
    "        vec.append(row)\n",
    "\n",
    "    result = float('inf')\n",
    "    \n",
    "    count = 0\n",
    "    # 行切分\n",
    "    for i in range(n):\n",
    "        \n",
    "        for j in range(m):\n",
    "            count += vec[i][j]\n",
    "            # 遍历到行末尾时候开始统计\n",
    "            if j == m - 1:\n",
    "                result = min(result, abs(sum - 2 * count))\n",
    "\n",
    "    count = 0\n",
    "    # 列切分\n",
    "    for j in range(m):\n",
    "        \n",
    "        for i in range(n):\n",
    "            count += vec[i][j]\n",
    "            # 遍历到列末尾时候开始统计\n",
    "            if i == n - 1:\n",
    "                result = min(result, abs(sum - 2 * count))\n",
    "\n",
    "    print(result)\n",
    "\n",
    "if __name__ == \"__main__\":\n",
    "    main()\n"
   ]
  },
  {
   "cell_type": "markdown",
   "id": "f2f61ffd",
   "metadata": {},
   "source": [
    "Python 常见数据类型"
   ]
  },
  {
   "cell_type": "markdown",
   "id": "09c126f3",
   "metadata": {},
   "source": [
    "| 类型     | 说明           | 示例               |\n",
    "|----------|----------------|--------------------|\n",
    "| int      | 整数           | 1, -5, 100         |\n",
    "| float    | 浮点数         | 3.14, -0.01        |\n",
    "| bool     | 布尔值         | True, False        |\n",
    "| str      | 字符串         | \"hello\", 'a'       |\n",
    "| list     | 列表           | [1, 2, 3]          |\n",
    "| tuple    | 元组           | (1, 2, 3)          |\n",
    "| dict     | 字典           | {\"a\": 1, \"b\":2}    |\n",
    "| set      | 集合           | {1, 2, 3}          |\n",
    "| NoneType | 空类型         | None               |\n",
    "| bytes    | 字节序列       | b'abc'             |"
   ]
  },
  {
   "cell_type": "markdown",
   "id": "6f0e51af",
   "metadata": {},
   "source": [
    "C++ 常见数据类型"
   ]
  },
  {
   "cell_type": "markdown",
   "id": "cd07ea41",
   "metadata": {},
   "source": [
    "| 类型           | 说明             | 示例             |\n",
    "|----------------|------------------|------------------|\n",
    "| int            | 整数             | 1, -5, 100       |\n",
    "| float          | 单精度浮点数     | 3.14f            |\n",
    "| double         | 双精度浮点数     | 3.1415926        |\n",
    "| char           | 字符             | 'a', 'Z'         |\n",
    "| bool           | 布尔值           | true, false      |\n",
    "| string         | 字符串           | \"hello\"          |\n",
    "| long           | 长整型           | 1234567890L      |\n",
    "| unsigned int   | 无符号整型       | 0, 100           |\n",
    "| short          | 短整型           | 32767            |\n",
    "| long long      | 更长的整型       | 1234567890123    |"
   ]
  },
  {
   "cell_type": "markdown",
   "id": "f79f8a91",
   "metadata": {},
   "source": [
    "Java 常见数据类型"
   ]
  },
  {
   "cell_type": "markdown",
   "id": "70d43805",
   "metadata": {},
   "source": [
    "| 类型       | 说明           | 示例             |\n",
    "|------------|----------------|------------------|\n",
    "| int        | 整数           | 1, -5, 100       |\n",
    "| float      | 单精度浮点数   | 3.14f            |\n",
    "| double     | 双精度浮点数   | 3.1415926        |\n",
    "| char       | 字符           | 'a', 'Z'         |\n",
    "| boolean    | 布尔值         | true, false      |\n",
    "| String     | 字符串         | \"hello\"          |\n",
    "| long       | 长整型         | 1234567890L      |\n",
    "| short      | 短整型         | 32767            |\n",
    "| byte       | 字节           | 127              |"
   ]
  },
  {
   "cell_type": "markdown",
   "id": "4fdb3e86",
   "metadata": {},
   "source": [
    "| 队列类型         | 主要特点                        | 典型应用                         | 常见实现方式                |\n",
    "|------------------|---------------------------------|-----------------------------------|-----------------------------|\n",
    "| 普通队列 (Queue) | 先进先出（FIFO）                | 广度优先搜索（BFS）、消息队列     | `collections.deque` (Python), `queue` (C++) |\n",
    "| 优先级队列 (Priority Queue) | 按优先级出队，不保证FIFO      | Dijkstra最短路、任务调度、A*搜索  | `heapq` (Python), `priority_queue` (C++)   |\n",
    "| 单调队列 (Monotonic Queue)  | 队列内元素单调递增或递减      | 滑动窗口最大/最小值               | `collections.deque` (Python), `deque` (C++)|\n",
    "| 双端队列 (Deque) | 两端都可进出队                  | 滑动窗口、回文判断                | `collections.deque` (Python), `deque` (C++)|\n",
    "| 循环队列 (Circular Queue)   | 首尾相连，空间利用率高         | 缓存、流处理                      | 数组+头尾指针                |\n",
    "| 单调栈 (Monotonic Stack)    | 栈内元素单调递增或递减         | 下一个更大/小元素、直方图最大矩形 | 普通栈（list, stack）         |"
   ]
  },
  {
   "cell_type": "markdown",
   "id": "05410509",
   "metadata": {},
   "source": [
    "Mosh chllenge：Write a function to convert a Roman numeral to an integer. Roman numerals use letters to represent values. For example, 'III' is 3, 'IV' is 4, and 'IX' is 9. "
   ]
  },
  {
   "cell_type": "markdown",
   "id": "052b92a5",
   "metadata": {},
   "source": [
    "1.建立映射表\n",
    "建立一个字典，将每个罗马字符对应的整数值存起来\n",
    "{'I': 1, 'V': 5, 'X': 10, 'L': 50, 'C': 100, 'D': 500, 'M': 1000}\n",
    "\n",
    "2.从左到右遍历字符串\n",
    "\n",
    "对于每一个字符，比较它和它右边字符的大小：如果当前字符代表的值小于右边字符的值，说明这是一个“减法组合”（如 IV=4, IX=9），需要减去当前字符的值。否则，直接加上当前字符的值。\n",
    "\n",
    "累加结果\n",
    "\n",
    "遍历完所有字符后，累加的结果就是最终的整数。"
   ]
  },
  {
   "cell_type": "markdown",
   "id": "22c5e752",
   "metadata": {},
   "source": [
    "以 \"MCMXCIV\" 为例：\n",
    "\n",
    "M(1000) < C(100) → 否，加1000\n",
    "\n",
    "C(100) < M(1000) → 是，减100\n",
    "\n",
    "M(1000) < X(10) → 否，加1000\n",
    "\n",
    "X(10) < C(100) → 是，减10\n",
    "\n",
    "C(100) < I(1) → 否，加100\n",
    "\n",
    "I(1) < V(5) → 是，减1\n",
    "\n",
    "V(5) → 加5\n",
    "\n",
    "最后结果：1000 - 100 + 1000 - 10 + 100 - 1 + 5 = 1994"
   ]
  },
  {
   "cell_type": "code",
   "execution_count": null,
   "id": "aa4d6f05",
   "metadata": {},
   "outputs": [
    {
     "name": "stdout",
     "output_type": "stream",
     "text": [
      "1994\n"
     ]
    }
   ],
   "source": [
    "def romanToInt(s:str)->int:\n",
    "    roman_map = {'I':1,'V':5,'X':10,'L':50,'C':100,'D':500,'M':1000}\n",
    "    result = 0\n",
    "    n = len(s)\n",
    "    for i in range(n):\n",
    "        # 如果当前字符比右边小，则减去当前值\n",
    "        if i < n-1 and roman_map[s[i]] < roman_map[s[i+1]]:\n",
    "            result -= roman_map[s[i]]\n",
    "        else:\n",
    "            result += roman_map[s[i]]\n",
    "    return result\n",
    "\n",
    "print(romanToInt(\"MCMXCIV\"))"
   ]
  }
 ],
 "metadata": {
  "kernelspec": {
   "display_name": "Python 3",
   "language": "python",
   "name": "python3"
  },
  "language_info": {
   "codemirror_mode": {
    "name": "ipython",
    "version": 3
   },
   "file_extension": ".py",
   "mimetype": "text/x-python",
   "name": "python",
   "nbconvert_exporter": "python",
   "pygments_lexer": "ipython3",
   "version": "3.12.9"
  }
 },
 "nbformat": 4,
 "nbformat_minor": 5
}
